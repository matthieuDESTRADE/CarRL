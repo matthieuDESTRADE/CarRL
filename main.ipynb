{
 "cells": [
  {
   "cell_type": "code",
   "execution_count": 5,
   "metadata": {},
   "outputs": [],
   "source": [
    "%load_ext autoreload\n",
    "%autoreload 1\n",
    "%aimport environment\n",
    "\n",
    "from environment import CarEnv\n",
    "\n",
    "import numpy as np\n",
    "\n",
    "import matplotlib.pyplot as plt"
   ]
  },
  {
   "cell_type": "code",
   "execution_count": 8,
   "metadata": {},
   "outputs": [
    {
     "name": "stdout",
     "output_type": "stream",
     "text": [
      "(40, 40, 3)\n",
      "Discrete(6)\n"
     ]
    }
   ],
   "source": [
    "env = CarEnv(0, False)\n",
    "print(env.observation_space.shape) # size of the image\n",
    "print(env.action_space) \n",
    "action_dim = env.action_space.n"
   ]
  },
  {
   "cell_type": "code",
   "execution_count": 9,
   "metadata": {},
   "outputs": [
    {
     "data": {
      "text/plain": [
       "<matplotlib.image.AxesImage at 0x17329788820>"
      ]
     },
     "execution_count": 9,
     "metadata": {},
     "output_type": "execute_result"
    },
    {
     "data": {
      "image/png": "[encoded data removed]",
      "text/plain": [
       "<Figure size 432x288 with 1 Axes>"
      ]
     },
     "metadata": {
      "needs_background": "light"
     },
     "output_type": "display_data"
    }
   ],
   "source": [
    "img = plt.imread(\"action space.png\")\n",
    "plt.imshow(img)"
   ]
  },
  {
   "cell_type": "markdown",
   "metadata": {},
   "source": [
    "### test"
   ]
  },
  {
   "cell_type": "code",
   "execution_count": 11,
   "metadata": {},
   "outputs": [
    {
     "name": "stdout",
     "output_type": "stream",
     "text": [
      "Score: -10.22463042798373\n"
     ]
    }
   ],
   "source": [
    "# Create an instance of the custom environment\n",
    "env = CarEnv(10)\n",
    "\n",
    "# Example of using the environment\n",
    "obs = env.reset()\n",
    "score = 0\n",
    "while True:\n",
    "    action = env.action_space.sample()\n",
    "    obs, reward, done, _ = env.step(action)\n",
    "    score += reward\n",
    "    if done:\n",
    "        break\n",
    "\n",
    "print('Score:', score)"
   ]
  },
  {
   "cell_type": "code",
   "execution_count": 20,
   "metadata": {},
   "outputs": [],
   "source": [
    "env = CarEnv(10,False)\n",
    "obs = env.reset()\n"
   ]
  },
  {
   "cell_type": "code",
   "execution_count": 21,
   "metadata": {},
   "outputs": [
    {
     "name": "stdout",
     "output_type": "stream",
     "text": [
      "0.04812323229911511\n"
     ]
    },
    {
     "data": {
      "text/plain": [
       "<matplotlib.image.AxesImage at 0x1fa6b41d710>"
      ]
     },
     "execution_count": 21,
     "metadata": {},
     "output_type": "execute_result"
    },
    {
     "data": {
      "image/png": "[encoded data removed]",
      "text/plain": [
       "<Figure size 640x480 with 1 Axes>"
      ]
     },
     "metadata": {},
     "output_type": "display_data"
    }
   ],
   "source": [
    "# Size of the image is reduced to make training faster\n",
    "action = env.action_space.sample()\n",
    "obs, reward, done, _ = env.step(0)\n",
    "\n",
    "print(reward)\n",
    "fig = plt.figure\n",
    "plt.imshow(obs)"
   ]
  },
  {
   "cell_type": "markdown",
   "metadata": {},
   "source": [
    "### DL models"
   ]
  },
  {
   "cell_type": "code",
   "execution_count": 1,
   "metadata": {},
   "outputs": [
    {
     "name": "stderr",
     "output_type": "stream",
     "text": [
      "c:\\Users\\matth\\AppData\\Local\\Programs\\Python\\Python310\\lib\\site-packages\\scipy\\__init__.py:155: UserWarning: A NumPy version >=1.18.5 and <1.25.0 is required for this version of SciPy (detected version 1.26.4\n",
      "  warnings.warn(f\"A NumPy version >={np_minversion} and <{np_maxversion}\"\n"
     ]
    }
   ],
   "source": [
    "import torch\n",
    "import pandas as pd\n",
    "import seaborn as sns\n",
    "\n",
    "device = torch.device(\"cuda\" if torch.cuda.is_available() else \"cpu\")"
   ]
  },
  {
   "cell_type": "code",
   "execution_count": 12,
   "metadata": {},
   "outputs": [],
   "source": [
    "from deep_Q_newtork import QNetwork, OtherQNetwork, EpsilonGreedy, MinimumExponentialLR, DQNAgent\n",
    "%aimport deep_Q_newtork\n"
   ]
  },
  {
   "cell_type": "code",
   "execution_count": 13,
   "metadata": {},
   "outputs": [
    {
     "data": {
      "text/plain": [
       "tensor([[4.8926, 3.4297, 2.4360, 0.3657, 0.7470, 1.8482]],\n",
       "       grad_fn=<AddmmBackward0>)"
      ]
     },
     "execution_count": 13,
     "metadata": {},
     "output_type": "execute_result"
    }
   ],
   "source": [
    "env = CarEnv(10, display=True)\n",
    "obs = env.reset()\n",
    "obstensor = CarEnv.obs2tensor(obs, device)\n",
    "\n",
    "model = QNetwork(action_dim).to(device)\n",
    "\n",
    "model(obstensor)"
   ]
  },
  {
   "cell_type": "code",
   "execution_count": 28,
   "metadata": {},
   "outputs": [
    {
     "data": {
      "application/vnd.jupyter.widget-view+json": {
       "model_id": "d120f0fab0ca4047b3b955861fdfc70a",
       "version_major": 2,
       "version_minor": 0
      },
      "text/plain": [
       "  0%|          | 0/999 [00:00<?, ?it/s]"
      ]
     },
     "metadata": {},
     "output_type": "display_data"
    },
    {
     "name": "stdout",
     "output_type": "stream",
     "text": [
      "Episode 1 - Reward: 42.809186196362155\n"
     ]
    },
    {
     "name": "stderr",
     "output_type": "stream",
     "text": [
      "c:\\Users\\bcbav\\.vscode\\environnement_ipython\\INF581\\car_project\\Projet\\deep_Q_newtork.py:208: UserWarning: To copy construct from a tensor, it is recommended to use sourceTensor.clone().detach() or sourceTensor.clone().detach().requires_grad_(True), rather than torch.tensor(sourceTensor).\n",
      "  batch_actions_tensor = torch.tensor(\n",
      "c:\\Users\\bcbav\\.vscode\\environnement_ipython\\INF581\\car_project\\Projet\\deep_Q_newtork.py:210: UserWarning: To copy construct from a tensor, it is recommended to use sourceTensor.clone().detach() or sourceTensor.clone().detach().requires_grad_(True), rather than torch.tensor(sourceTensor).\n",
      "  batch_rewards_tensor = torch.tensor(\n",
      "c:\\Users\\bcbav\\.vscode\\environnement_ipython\\INF581\\car_project\\Projet\\deep_Q_newtork.py:214: UserWarning: To copy construct from a tensor, it is recommended to use sourceTensor.clone().detach() or sourceTensor.clone().detach().requires_grad_(True), rather than torch.tensor(sourceTensor).\n",
      "  batch_dones_tensor = torch.tensor(\n"
     ]
    },
    {
     "name": "stdout",
     "output_type": "stream",
     "text": [
      "Episode 2 - Reward: 49.52129724744407\n",
      "Episode 3 - Reward: 32.1678724527976\n"
     ]
    },
    {
     "name": "stdout",
     "output_type": "stream",
     "text": [
      "399.023761992264\n",
      "480.97944191522663\n"
     ]
    },
    {
     "ename": "KeyboardInterrupt",
     "evalue": "",
     "output_type": "error",
     "traceback": [
      "\u001b[1;31m---------------------------------------------------------------------------\u001b[0m",
      "\u001b[1;31mKeyboardInterrupt\u001b[0m                         Traceback (most recent call last)",
      "Cell \u001b[1;32mIn[28], line 31\u001b[0m\n\u001b[0;32m     21\u001b[0m     \u001b[39m# Train the q-network\u001b[39;00m\n\u001b[0;32m     22\u001b[0m     dqn_agent \u001b[39m=\u001b[39m DQNAgent(env\u001b[39m=\u001b[39menv,\n\u001b[0;32m     23\u001b[0m                          q_network\u001b[39m=\u001b[39mq_network,\n\u001b[0;32m     24\u001b[0m                          target_q_network\u001b[39m=\u001b[39mtarget_q_network,\n\u001b[1;32m   (...)\u001b[0m\n\u001b[0;32m     28\u001b[0m                          frame_skipping\u001b[39m=\u001b[39m\u001b[39m4\u001b[39m,\n\u001b[0;32m     29\u001b[0m                          )\n\u001b[1;32m---> 31\u001b[0m     dqn_agent\u001b[39m.\u001b[39;49mtrain(num_episodes\u001b[39m=\u001b[39;49m\u001b[39m300\u001b[39;49m,\n\u001b[0;32m     32\u001b[0m                     batch_size\u001b[39m=\u001b[39;49m\u001b[39m128\u001b[39;49m,\n\u001b[0;32m     33\u001b[0m                     loss_fn\u001b[39m=\u001b[39;49mloss_fn,\n\u001b[0;32m     34\u001b[0m                     epsilon_greedy\u001b[39m=\u001b[39;49mepsilon_greedy,\n\u001b[0;32m     35\u001b[0m                     optimizer\u001b[39m=\u001b[39;49moptimizer,\n\u001b[0;32m     36\u001b[0m                     lr_scheduler\u001b[39m=\u001b[39;49mlr_scheduler,\n\u001b[0;32m     37\u001b[0m                     )\n\u001b[0;32m     39\u001b[0m \u001b[39m# Save the action-value estimation function\u001b[39;00m\n\u001b[0;32m     41\u001b[0m torch\u001b[39m.\u001b[39msave(q_network, \u001b[39m\"\u001b[39m\u001b[39mdqn2_q_network.pth\u001b[39m\u001b[39m\"\u001b[39m)\n",
      "File \u001b[1;32mc:\\Users\\bcbav\\.vscode\\environnement_ipython\\INF581\\car_project\\Projet\\deep_Q_newtork.py:195\u001b[0m, in \u001b[0;36mDQNAgent.train\u001b[1;34m(self, num_episodes, batch_size, loss_fn, epsilon_greedy, optimizer, lr_scheduler)\u001b[0m\n\u001b[0;32m    192\u001b[0m \u001b[39melif\u001b[39;00m rdm \u001b[39m>\u001b[39m\u001b[39m=\u001b[39m \u001b[39m1\u001b[39m:\n\u001b[0;32m    193\u001b[0m     rdm \u001b[39m+\u001b[39m\u001b[39m=\u001b[39m \u001b[39m1\u001b[39m\n\u001b[1;32m--> 195\u001b[0m next_state, reward, done, _ \u001b[39m=\u001b[39m \u001b[39mself\u001b[39;49m\u001b[39m.\u001b[39;49menv\u001b[39m.\u001b[39;49mstep(action)\n\u001b[0;32m    197\u001b[0m \u001b[39mself\u001b[39m\u001b[39m.\u001b[39mreplay_buffer\u001b[39m.\u001b[39madd((state, action, reward, next_state, done))\n\u001b[0;32m    199\u001b[0m episode_reward \u001b[39m+\u001b[39m\u001b[39m=\u001b[39m reward\n",
      "File \u001b[1;32mc:\\Users\\bcbav\\.vscode\\environnement_ipython\\INF581\\car_project\\Projet\\environment.py:163\u001b[0m, in \u001b[0;36mCarEnv.step\u001b[1;34m(self, action, dt)\u001b[0m\n\u001b[0;32m    159\u001b[0m     \u001b[39mself\u001b[39m\u001b[39m.\u001b[39mcar_y \u001b[39m-\u001b[39m\u001b[39m=\u001b[39m fac\n\u001b[0;32m    161\u001b[0m \u001b[39mself\u001b[39m\u001b[39m.\u001b[39mfillnoise(\u001b[39mself\u001b[39m\u001b[39m.\u001b[39mt)\n\u001b[1;32m--> 163\u001b[0m obs \u001b[39m=\u001b[39m \u001b[39mself\u001b[39;49m\u001b[39m.\u001b[39;49m_get_observation()\n\u001b[0;32m    165\u001b[0m \u001b[39mif\u001b[39;00m \u001b[39mself\u001b[39m\u001b[39m.\u001b[39mtime\u001b[39m/\u001b[39m\u001b[39m1000\u001b[39m \u001b[39m>\u001b[39m \u001b[39mself\u001b[39m\u001b[39m.\u001b[39mmaxtime:\n\u001b[0;32m    166\u001b[0m     done \u001b[39m=\u001b[39m \u001b[39mTrue\u001b[39;00m\n",
      "File \u001b[1;32mc:\\Users\\bcbav\\.vscode\\environnement_ipython\\INF581\\car_project\\Projet\\environment.py:217\u001b[0m, in \u001b[0;36mCarEnv._get_observation\u001b[1;34m(self)\u001b[0m\n\u001b[0;32m    212\u001b[0m \u001b[39m# Capture the current frame\u001b[39;00m\n\u001b[0;32m    213\u001b[0m \n\u001b[0;32m    214\u001b[0m \u001b[39m# rotated_screen_data = pg.transform.rotate(self.screen, np.random.rand()*360)\u001b[39;00m\n\u001b[0;32m    216\u001b[0m image \u001b[39m=\u001b[39m pg\u001b[39m.\u001b[39msurfarray\u001b[39m.\u001b[39marray3d(\u001b[39mself\u001b[39m\u001b[39m.\u001b[39mscreen)\n\u001b[1;32m--> 217\u001b[0m resized_image \u001b[39m=\u001b[39m cv2\u001b[39m.\u001b[39;49mresize(\n\u001b[0;32m    218\u001b[0m     image, (\u001b[39m40\u001b[39;49m, \u001b[39m40\u001b[39;49m), interpolation\u001b[39m=\u001b[39;49mcv2\u001b[39m.\u001b[39;49mINTER_AREA)\n\u001b[0;32m    219\u001b[0m \u001b[39m# cropped_image = resized_image[15:65, 15:65]\u001b[39;00m\n\u001b[0;32m    220\u001b[0m \n\u001b[0;32m    221\u001b[0m \u001b[39m# Rotate the screen data (example rotation by 45 degrees)\u001b[39;00m\n\u001b[1;32m   (...)\u001b[0m\n\u001b[0;32m    224\u001b[0m \u001b[39m# rotated_car_x = self.car_x * np.cos(self.angle) - self.car_y * np.sin(self.angle)\u001b[39;00m\n\u001b[0;32m    225\u001b[0m \u001b[39m# rotated_car_y = self.car_x * np.sin(self.angle) + self.car_y * np.cos(self.angle)\u001b[39;00m\n\u001b[0;32m    227\u001b[0m \u001b[39mreturn\u001b[39;00m resized_image\n",
      "\u001b[1;31mKeyboardInterrupt\u001b[0m: "
     ]
    }
   ],
   "source": [
    "env = CarEnv(30, False)\n",
    "\n",
    "loss_fn = torch.nn.MSELoss()\n",
    "\n",
    "NUMBER_OF_TRAININGS = 1\n",
    "\n",
    "for train_index in range(NUMBER_OF_TRAININGS):\n",
    "\n",
    "    # Instantiate required objects\n",
    "\n",
    "    q_network = QNetwork(action_dim).to(device)\n",
    "    target_q_network = QNetwork(action_dim).to(device)\n",
    "    optimizer = torch.optim.AdamW(\n",
    "        q_network.parameters(), lr=0.004, amsgrad=True)\n",
    "    epsilon_greedy = EpsilonGreedy(\n",
    "        epsilon_start=0.9, epsilon_min=0.01, epsilon_decay=0.97, env=env, q_network=q_network)\n",
    "    # lr_scheduler = torch.optim.lr_scheduler.ExponentialLR(optimizer, gamma=0.999)\n",
    "    lr_scheduler = MinimumExponentialLR(\n",
    "        optimizer, lr_decay=0.99, min_lr=0.0001)\n",
    "\n",
    "    # Train the q-network\n",
    "    dqn_agent = DQNAgent(env=env,\n",
    "                         q_network=q_network,\n",
    "                         target_q_network=target_q_network,\n",
    "                         target_q_network_sync_period=50,\n",
    "                         device=device,\n",
    "                         gamma=0.85,\n",
    "                         frame_skipping=4,\n",
    "                         )\n",
    "\n",
    "    dqn_agent.train(num_episodes=300,\n",
    "                    batch_size=128,\n",
    "                    loss_fn=loss_fn,\n",
    "                    epsilon_greedy=epsilon_greedy,\n",
    "                    optimizer=optimizer,\n",
    "                    lr_scheduler=lr_scheduler,\n",
    "                    )\n",
    "\n",
    "# Save the action-value estimation function\n",
    "\n",
    "torch.save(q_network, \"models/dqn2_q_network.pth\")"
   ]
  },
  {
   "cell_type": "code",
   "execution_count": 30,
   "metadata": {},
   "outputs": [
    {
     "data": {
      "application/vnd.jupyter.widget-view+json": {
       "model_id": "6d8bc9cca67c4695aaafae482bd26568",
       "version_major": 2,
       "version_minor": 0
      },
      "text/plain": [
       "  0%|          | 0/299 [00:00<?, ?it/s]"
      ]
     },
     "metadata": {},
     "output_type": "display_data"
    },
    {
     "name": "stdout",
     "output_type": "stream",
     "text": [
      "Episode 1 - Reward: 26.23798340408639\n",
      "Episode 2 - Reward: 37.26201063010141\n"
     ]
    },
    {
     "ename": "KeyboardInterrupt",
     "evalue": "",
     "output_type": "error",
     "traceback": [
      "\u001b[1;31m---------------------------------------------------------------------------\u001b[0m",
      "\u001b[1;31mKeyboardInterrupt\u001b[0m                         Traceback (most recent call last)",
      "Cell \u001b[1;32mIn[30], line 16\u001b[0m\n\u001b[0;32m      6\u001b[0m q_network \u001b[39m=\u001b[39m torch\u001b[39m.\u001b[39mload(\u001b[39m\"\u001b[39m\u001b[39mdqn2_q_network.pth\u001b[39m\u001b[39m\"\u001b[39m, map_location\u001b[39m=\u001b[39mdevice)\n\u001b[0;32m      7\u001b[0m dqn_agent \u001b[39m=\u001b[39m DQNAgent(env\u001b[39m=\u001b[39menv,\n\u001b[0;32m      8\u001b[0m                      q_network\u001b[39m=\u001b[39mq_network,\n\u001b[0;32m      9\u001b[0m                      target_q_network\u001b[39m=\u001b[39mtarget_q_network,\n\u001b[1;32m   (...)\u001b[0m\n\u001b[0;32m     13\u001b[0m                      frame_skipping\u001b[39m=\u001b[39m\u001b[39m2\u001b[39m,\n\u001b[0;32m     14\u001b[0m                      )\n\u001b[1;32m---> 16\u001b[0m dqn_agent\u001b[39m.\u001b[39;49mtrain(num_episodes\u001b[39m=\u001b[39;49m\u001b[39m300\u001b[39;49m,\n\u001b[0;32m     17\u001b[0m                 batch_size\u001b[39m=\u001b[39;49m\u001b[39m128\u001b[39;49m,\n\u001b[0;32m     18\u001b[0m                 loss_fn\u001b[39m=\u001b[39;49mloss_fn,\n\u001b[0;32m     19\u001b[0m                 epsilon_greedy\u001b[39m=\u001b[39;49mepsilon_greedy,\n\u001b[0;32m     20\u001b[0m                 optimizer\u001b[39m=\u001b[39;49moptimizer,\n\u001b[0;32m     21\u001b[0m                 lr_scheduler\u001b[39m=\u001b[39;49mlr_scheduler,\n\u001b[0;32m     22\u001b[0m                 )\n\u001b[0;32m     25\u001b[0m torch\u001b[39m.\u001b[39msave(q_network, \u001b[39m\"\u001b[39m\u001b[39mfined_dqn2_q_network.pth\u001b[39m\u001b[39m\"\u001b[39m)\n",
      "File \u001b[1;32mc:\\Users\\bcbav\\.vscode\\environnement_ipython\\INF581\\car_project\\Projet\\deep_Q_newtork.py:222\u001b[0m, in \u001b[0;36mDQNAgent.train\u001b[1;34m(self, num_episodes, batch_size, loss_fn, epsilon_greedy, optimizer, lr_scheduler)\u001b[0m\n\u001b[0;32m    220\u001b[0m \u001b[39m# Optimize the model\u001b[39;00m\n\u001b[0;32m    221\u001b[0m optimizer\u001b[39m.\u001b[39mzero_grad()\n\u001b[1;32m--> 222\u001b[0m loss\u001b[39m.\u001b[39;49mbackward()\n\u001b[0;32m    223\u001b[0m optimizer\u001b[39m.\u001b[39mstep()\n\u001b[0;32m    225\u001b[0m lr_scheduler\u001b[39m.\u001b[39mstep()\n",
      "File \u001b[1;32mc:\\Users\\bcbav\\.vscode\\environnement_ipython\\INF581\\car_project\\Projet\\.venv\\Lib\\site-packages\\torch\\_tensor.py:522\u001b[0m, in \u001b[0;36mTensor.backward\u001b[1;34m(self, gradient, retain_graph, create_graph, inputs)\u001b[0m\n\u001b[0;32m    512\u001b[0m \u001b[39mif\u001b[39;00m has_torch_function_unary(\u001b[39mself\u001b[39m):\n\u001b[0;32m    513\u001b[0m     \u001b[39mreturn\u001b[39;00m handle_torch_function(\n\u001b[0;32m    514\u001b[0m         Tensor\u001b[39m.\u001b[39mbackward,\n\u001b[0;32m    515\u001b[0m         (\u001b[39mself\u001b[39m,),\n\u001b[1;32m   (...)\u001b[0m\n\u001b[0;32m    520\u001b[0m         inputs\u001b[39m=\u001b[39minputs,\n\u001b[0;32m    521\u001b[0m     )\n\u001b[1;32m--> 522\u001b[0m torch\u001b[39m.\u001b[39;49mautograd\u001b[39m.\u001b[39;49mbackward(\n\u001b[0;32m    523\u001b[0m     \u001b[39mself\u001b[39;49m, gradient, retain_graph, create_graph, inputs\u001b[39m=\u001b[39;49minputs\n\u001b[0;32m    524\u001b[0m )\n",
      "File \u001b[1;32mc:\\Users\\bcbav\\.vscode\\environnement_ipython\\INF581\\car_project\\Projet\\.venv\\Lib\\site-packages\\torch\\autograd\\__init__.py:266\u001b[0m, in \u001b[0;36mbackward\u001b[1;34m(tensors, grad_tensors, retain_graph, create_graph, grad_variables, inputs)\u001b[0m\n\u001b[0;32m    261\u001b[0m     retain_graph \u001b[39m=\u001b[39m create_graph\n\u001b[0;32m    263\u001b[0m \u001b[39m# The reason we repeat the same comment below is that\u001b[39;00m\n\u001b[0;32m    264\u001b[0m \u001b[39m# some Python versions print out the first line of a multi-line function\u001b[39;00m\n\u001b[0;32m    265\u001b[0m \u001b[39m# calls in the traceback and some print out the last line\u001b[39;00m\n\u001b[1;32m--> 266\u001b[0m Variable\u001b[39m.\u001b[39;49m_execution_engine\u001b[39m.\u001b[39;49mrun_backward(  \u001b[39m# Calls into the C++ engine to run the backward pass\u001b[39;49;00m\n\u001b[0;32m    267\u001b[0m     tensors,\n\u001b[0;32m    268\u001b[0m     grad_tensors_,\n\u001b[0;32m    269\u001b[0m     retain_graph,\n\u001b[0;32m    270\u001b[0m     create_graph,\n\u001b[0;32m    271\u001b[0m     inputs,\n\u001b[0;32m    272\u001b[0m     allow_unreachable\u001b[39m=\u001b[39;49m\u001b[39mTrue\u001b[39;49;00m,\n\u001b[0;32m    273\u001b[0m     accumulate_grad\u001b[39m=\u001b[39;49m\u001b[39mTrue\u001b[39;49;00m,\n\u001b[0;32m    274\u001b[0m )\n",
      "\u001b[1;31mKeyboardInterrupt\u001b[0m: "
     ]
    }
   ],
   "source": [
    "# fine tune agent with the new q_network\n",
    "# gamma increased => focus more on future rewards\n",
    "# frame_skipping decreased\n",
    "# more frequent target network sync\n",
    "\n",
    "q_network = torch.load(\"models/dqn2_q_network.pth\", map_location=device)\n",
    "dqn_agent = DQNAgent(env=env,\n",
    "                     q_network=q_network,\n",
    "                     target_q_network=target_q_network,\n",
    "                     target_q_network_sync_period=30,\n",
    "                     device=device,\n",
    "                     gamma=0.9,\n",
    "                     frame_skipping=2,\n",
    "                     )\n",
    "\n",
    "dqn_agent.train(num_episodes=300,\n",
    "                batch_size=128,\n",
    "                loss_fn=loss_fn,\n",
    "                epsilon_greedy=epsilon_greedy,\n",
    "                optimizer=optimizer,\n",
    "                lr_scheduler=lr_scheduler,\n",
    "                )\n",
    "\n",
    "\n",
    "torch.save(q_network, \"models/fined_dqn2_q_network.pth\")"
   ]
  },
  {
   "cell_type": "code",
   "execution_count": 33,
   "metadata": {},
   "outputs": [],
   "source": [
    "env.close()"
   ]
  },
  {
   "cell_type": "code",
   "execution_count": 34,
   "metadata": {},
   "outputs": [],
   "source": [
    "dqn2_trains_result_df = pd.DataFrame(np.array(dqn_agent.result_list).T, columns=[\"num_episodes\", \"mean_final_episode_reward\", \"training_index\"])\n",
    "dqn2_trains_result_df[\"agent\"] = \"DQN 2015\""
   ]
  },
  {
   "cell_type": "code",
   "execution_count": 35,
   "metadata": {},
   "outputs": [
    {
     "data": {
      "image/png": "[encoded data removed]",
      "text/plain": [
       "<Figure size 1521.5x700 with 1 Axes>"
      ]
     },
     "metadata": {},
     "output_type": "display_data"
    }
   ],
   "source": [
    "g = sns.relplot(x=\"num_episodes\",\n",
    "                y=\"mean_final_episode_reward\",\n",
    "                kind=\"line\",\n",
    "                hue=\"agent\",\n",
    "                estimator=None,\n",
    "                units=\"training_index\",\n",
    "                data=dqn2_trains_result_df,\n",
    "                height=7,\n",
    "                aspect=2)"
   ]
  },
  {
   "cell_type": "code",
   "execution_count": 14,
   "metadata": {},
   "outputs": [],
   "source": [
    "q_network = torch.load(\"models/verygood.pth\", map_location=device)"
   ]
  },
  {
   "cell_type": "code",
   "execution_count": 17,
   "metadata": {},
   "outputs": [
    {
     "name": "stdout",
     "output_type": "stream",
     "text": [
      "2550.9333650882368\n"
     ]
    }
   ],
   "source": [
    "import pygame as pg\n",
    "\n",
    "# Create an instance of the custom environment\n",
    "env = CarEnv(300,display=True, evaluation=False, draw_central_line=True)\n",
    "\n",
    "# Example of using the environment\n",
    "obs = env.reset()\n",
    "score = 0\n",
    "\n",
    "while True:\n",
    "    obstensor = CarEnv.obs2tensor(obs, device)\n",
    "    action = q_network(obstensor).argmax(dim=1)\n",
    "    obs, reward, done, _ = env.step(action)\n",
    "    score += reward\n",
    "    if done:\n",
    "        break\n",
    "print(score)"
   ]
  },
  {
   "cell_type": "code",
   "execution_count": null,
   "metadata": {},
   "outputs": [],
   "source": []
  }
 ],
 "metadata": {
  "kernelspec": {
   "display_name": "Python 3",
   "language": "python",
   "name": "python3"
  },
  "language_info": {
   "codemirror_mode": {
    "name": "ipython",
    "version": 3
   },
   "file_extension": ".py",
   "mimetype": "text/x-python",
   "name": "python",
   "nbconvert_exporter": "python",
   "pygments_lexer": "ipython3",
   "version": "3.10.3"
  }
 },
 "nbformat": 4,
 "nbformat_minor": 2
}
